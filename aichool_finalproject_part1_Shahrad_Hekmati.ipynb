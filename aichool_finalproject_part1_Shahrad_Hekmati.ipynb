{
 "cells": [
  {
   "cell_type": "markdown",
   "metadata": {},
   "source": [
    "## import Libraries"
   ]
  },
  {
   "cell_type": "code",
   "execution_count": 57,
   "metadata": {},
   "outputs": [],
   "source": [
    "import os\n",
    "import keras\n",
    "from keras.models import Sequential\n",
    "from keras.layers import Conv2D, MaxPooling2D, Flatten, Dense, Dropout, BatchNormalization\n",
    "from tensorflow.keras.preprocessing.image import ImageDataGenerator\n",
    "from PIL import Image\n",
    "import numpy as np\n",
    "import pandas as pd\n",
    "import matplotlib.pyplot as plt\n",
    "from sklearn.model_selection import train_test_split"
   ]
  },
  {
   "cell_type": "markdown",
   "metadata": {},
   "source": [
    "## Define paths and read date"
   ]
  },
  {
   "cell_type": "code",
   "execution_count": 75,
   "metadata": {},
   "outputs": [
    {
     "name": "stdout",
     "output_type": "stream",
     "text": [
      "Found 0 images belonging to 0 classes.\n",
      "Found 0 images belonging to 0 classes.\n",
      "Found 0 images belonging to 0 classes.\n",
      "Found 0 images belonging to 0 classes.\n",
      "Found 0 images belonging to 0 classes.\n",
      "Found 0 images belonging to 0 classes.\n",
      "Found 0 images belonging to 0 classes.\n",
      "Found 0 images belonging to 0 classes.\n",
      "Found 0 images belonging to 0 classes.\n",
      "Found 0 images belonging to 0 classes.\n",
      "Found 0 images belonging to 0 classes.\n",
      "Found 0 images belonging to 0 classes.\n"
     ]
    }
   ],
   "source": [
    "# Get the absolute path of the current directory\n",
    "base_dir = os.path.abspath('.')\n",
    "# Join the base directory with the relative path of the directories\n",
    "cardboard_dir = os.path.join(base_dir, 'TrashType_Image_Dataset', 'cardboard')\n",
    "glass_dir = os.path.join(base_dir, 'TrashType_Image_Dataset', 'glass')\n",
    "metal_dir = os.path.join(base_dir, 'TrashType_Image_Dataset', 'metal')\n",
    "paper_dir = os.path.join(base_dir, 'TrashType_Image_Dataset', 'paper')\n",
    "plastic_dir = os.path.join(base_dir, 'TrashType_Image_Dataset', 'plastic')\n",
    "trash_dir = os.path.join(base_dir, 'TrashType_Image_Dataset', 'trash')\n",
    "\n",
    "paths = [cardboard_dir,\n",
    "         glass_dir,\n",
    "         metal_dir,\n",
    "         paper_dir,\n",
    "         plastic_dir,\n",
    "         trash_dir]\n",
    "# Define data augmentation parameters\n",
    "datagen = ImageDataGenerator(\n",
    "    rescale=1./255,\n",
    "    rotation_range=40,\n",
    "    width_shift_range=0.2,\n",
    "    height_shift_range=0.2,\n",
    "    shear_range=0.2,\n",
    "    zoom_range=0.2,\n",
    "    horizontal_flip=True,\n",
    "    fill_mode='nearest'\n",
    ")\n",
    "\n",
    "# Function to load images from directory and apply data augmentation\n",
    "def load_images_from_directory(directory, batch_size=32):\n",
    "    generator = datagen.flow_from_directory(\n",
    "        directory,\n",
    "        batch_size=batch_size,\n",
    "        class_mode='categorical'\n",
    "    )\n",
    "    return generator\n",
    "\n",
    "# Load augmented images for training and validation\n",
    "train_generators, validation_generators = [], []\n",
    "for path in paths:\n",
    "    train_generator = load_images_from_directory(path, batch_size=32)\n",
    "    validation_generator = load_images_from_directory(path, batch_size=32)\n",
    "    train_generators.append(train_generator)\n",
    "    validation_generators.append(validation_generator)"
   ]
  },
  {
   "cell_type": "code",
   "execution_count": null,
   "metadata": {},
   "outputs": [],
   "source": []
  }
 ],
 "metadata": {
  "kernelspec": {
   "display_name": "base",
   "language": "python",
   "name": "python3"
  },
  "language_info": {
   "codemirror_mode": {
    "name": "ipython",
    "version": 3
   },
   "file_extension": ".py",
   "mimetype": "text/x-python",
   "name": "python",
   "nbconvert_exporter": "python",
   "pygments_lexer": "ipython3",
   "version": "3.11.5"
  }
 },
 "nbformat": 4,
 "nbformat_minor": 2
}
