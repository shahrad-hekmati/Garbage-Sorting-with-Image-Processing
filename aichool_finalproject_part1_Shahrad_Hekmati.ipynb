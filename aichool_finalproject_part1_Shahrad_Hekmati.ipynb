{
 "cells": [
  {
   "cell_type": "markdown",
   "metadata": {},
   "source": [
    "## import Libraries"
   ]
  },
  {
   "cell_type": "code",
   "execution_count": 57,
   "metadata": {},
   "outputs": [],
   "source": [
    "import os\n",
    "import keras\n",
    "from keras.models import Sequential\n",
    "from keras.layers import Conv2D, MaxPooling2D, Flatten, Dense, Dropout, BatchNormalization\n",
    "from tensorflow.keras.preprocessing.image import ImageDataGenerator\n",
    "from PIL import Image\n",
    "import numpy as np\n",
    "import pandas as pd\n",
    "import matplotlib.pyplot as plt\n",
    "from sklearn.model_selection import train_test_split"
   ]
  },
  {
   "cell_type": "markdown",
   "metadata": {},
   "source": [
    "## Define paths and read date"
   ]
  },
  {
   "cell_type": "code",
   "execution_count": 58,
   "metadata": {},
   "outputs": [],
   "source": [
    "\n",
    "#* This part updates result and data list for images for each category\n",
    "\n",
    "paths = []\n",
    "# Get the absolute path of the current directory\n",
    "base_dir = os.path.abspath('.')\n",
    "# Join the base directory with the relative path of the directories\n",
    "cardboard_dir = os.path.join(base_dir, 'TrashType_Image_Dataset', 'cardboard')\n",
    "glass_dir = os.path.join(base_dir, 'TrashType_Image_Dataset', 'glass')\n",
    "metal_dir = os.path.join(base_dir, 'TrashType_Image_Dataset', 'metal')\n",
    "paper_dir = os.path.join(base_dir, 'TrashType_Image_Dataset', 'paper')\n",
    "plastic_dir = os.path.join(base_dir, 'TrashType_Image_Dataset', 'plastic')\n",
    "trash_dir = os.path.join(base_dir, 'TrashType_Image_Dataset', 'trash')\n",
    "\n",
    "paths = [cardboard_dir,\n",
    "         glass_dir,\n",
    "         metal_dir,\n",
    "         paper_dir,\n",
    "         plastic_dir,\n",
    "         trash_dir]\n",
    "data = []\n",
    "result = []\n",
    "\n",
    "for count, category in enumerate(paths):\n",
    "    for r, d, f in os.walk(category):\n",
    "        for file in f:\n",
    "            if '.jpg' in file:\n",
    "                path = os.path.join(r, file)\n",
    "                img = Image.open(path)\n",
    "                img = img.resize((128,128))\n",
    "                img = np.array(img)\n",
    "                if(img.shape == (128,128,3)):\n",
    "                    data.append(np.array(img))\n",
    "                    result.append(encoder.transform([[count]]).toarray())"
   ]
  }
 ],
 "metadata": {
  "kernelspec": {
   "display_name": "base",
   "language": "python",
   "name": "python3"
  },
  "language_info": {
   "codemirror_mode": {
    "name": "ipython",
    "version": 3
   },
   "file_extension": ".py",
   "mimetype": "text/x-python",
   "name": "python",
   "nbconvert_exporter": "python",
   "pygments_lexer": "ipython3",
   "version": "3.11.5"
  }
 },
 "nbformat": 4,
 "nbformat_minor": 2
}
